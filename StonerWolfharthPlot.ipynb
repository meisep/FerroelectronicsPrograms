{
 "cells": [
  {
   "cell_type": "code",
   "execution_count": 48,
   "metadata": {
    "collapsed": false
   },
   "outputs": [
    {
     "data": {
      "image/png": "[encoded data removed]",
      "text/plain": [
       "<matplotlib.figure.Figure at 0x229a8a60208>"
      ]
     },
     "metadata": {},
     "output_type": "display_data"
    }
   ],
   "source": [
    "%matplotlib inline\n",
    "from ipywidgets import *\n",
    "from IPython.display import display\n",
    "import numpy as np\n",
    "import matplotlib.pyplot as plt\n",
    "from pylab import *\n",
    "from scipy.optimize import brentq\n",
    "\n",
    "def SW(H, theta):\n",
    "    theta = theta/360.0*2.0*np.pi\n",
    "    phis1=[]\n",
    "    phis2=[]\n",
    "    ### Top part\n",
    "    for h in H: \n",
    "        F = lambda phi : 0.5*np.sin(2*(phi-theta)) + h*np.sin(phi) \n",
    "        phi = np.linspace(0, np.pi, points)\n",
    "        \n",
    "        phi_initial_guess = 0.8\n",
    "        \n",
    "        if max(F(phi)) > 0:\n",
    "                p = brentq(F, 0, phi[np.argmax(F(phi))])\n",
    "        else:\n",
    "            p = np.pi\n",
    "        phis1.append(p)\n",
    "    phis1 = np.array(phis1,dtype='float')\n",
    "    ### Bottom part          \n",
    "    for h in H:\n",
    "        F = lambda phi : 0.5*np.sin(2*(phi-theta)) + h*np.sin(phi) \n",
    "        phi = np.linspace(2*np.pi, np.pi, points)\n",
    "        \n",
    "        phi_initial_guess = 4.0\n",
    "        if max(F(phi)) > 0:\n",
    "                p = brentq(F, np.pi, phi[np.argmax(F(phi))])\n",
    "        else:\n",
    "            p = 0\n",
    "        phis2.append(p)\n",
    "    phis2 = np.array(phis2, dtype='float')\n",
    "    \n",
    "    for i in range(len(phis1)):\n",
    "        if H[i] < 0 and np.cos(phis2[i]) > np.cos(phis1[i]):\n",
    "            phis1[i] = phis2[i]\n",
    "    for i in range(len(phis2)):\n",
    "        if H[i] > 0 and np.cos(phis2[i]) > np.cos(phis1[i]):\n",
    "            phis2[i] = phis1[i]\n",
    "    return phis1, phis2\n",
    "points = 200\n",
    "H = np.linspace(-1.0,1.0,points)\n",
    "theta0 = 45.0\n",
    "def SWplt(theta):\n",
    "    points = 200\n",
    "    H = np.linspace(-1.0,1.0,points)\n",
    "    \n",
    "    phis1, phis2 = SW(H, theta)\n",
    "    fig, ax = plt.subplots()\n",
    "    subplots_adjust(bottom=0.3)\n",
    "\n",
    "    l, = plot(H, np.cos(phis1), 'b', linewidth=4)\n",
    "    k, = plot(H, np.cos(phis2), 'b', lw = 4)\n",
    "\n",
    "    ax.set_ylim([-1.1,1.1])\n",
    "    ax.set_xlim([-1.1,1.1])\n",
    "    ax.tick_params(axis='both', which='major', labelsize=15)\n",
    "    ax.set_xlabel('h', fontsize=20)\n",
    "    ax.set_ylabel('m'r'$_h$',fontsize=20)\n",
    "    plt.grid(b=True, which='both')\n",
    "\n",
    "stheta = FloatSlider(value=theta0, min =0.1, max = 89.9, description='Theta' )\n",
    "   \n",
    "interact(SWplt, theta=stheta)\n",
    "\n",
    "\n",
    "\n"
   ]
  },
  {
   "cell_type": "code",
   "execution_count": null,
   "metadata": {
    "collapsed": true
   },
   "outputs": [],
   "source": []
  }
 ],
 "metadata": {
  "anaconda-cloud": {},
  "kernelspec": {
   "display_name": "Python [conda root]",
   "language": "python",
   "name": "conda-root-py"
  },
  "language_info": {
   "codemirror_mode": {
    "name": "ipython",
    "version": 3
   },
   "file_extension": ".py",
   "mimetype": "text/x-python",
   "name": "python",
   "nbconvert_exporter": "python",
   "pygments_lexer": "ipython3",
   "version": "3.5.2"
  },
  "widgets": {
   "state": {
    "07a000f365ca4cdea6b70af9e67e6a62": {
     "views": [
      {
       "cell_index": 0
      }
     ]
    },
    "1ae4ee216b39448eacccee541ed667bf": {
     "views": [
      {
       "cell_index": 0
      }
     ]
    },
    "226e969f22114c5eb3223e808c650ad7": {
     "views": [
      {
       "cell_index": 0
      }
     ]
    },
    "653cc6f4a4a74951839dd86d512ae044": {
     "views": [
      {
       "cell_index": 0
      }
     ]
    },
    "6971cab722c540379496200de2fcb85e": {
     "views": [
      {
       "cell_index": 0
      }
     ]
    },
    "7149ba8594194ef2ba869270e91daac6": {
     "views": [
      {
       "cell_index": 0
      }
     ]
    },
    "875dcdc707c64191b927cdf205d3eb00": {
     "views": [
      {
       "cell_index": 0
      }
     ]
    },
    "a412643c8a044bb3bf4de2cf488b84e5": {
     "views": [
      {
       "cell_index": 0
      }
     ]
    },
    "d7558a608e91473e92d14e81a27c6b03": {
     "views": [
      {
       "cell_index": 0
      }
     ]
    }
   },
   "version": "1.2.0"
  }
 },
 "nbformat": 4,
 "nbformat_minor": 1
}
