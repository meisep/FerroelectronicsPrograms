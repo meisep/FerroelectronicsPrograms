{
 "cells": [
  {
   "cell_type": "markdown",
   "metadata": {
    "collapsed": true
   },
   "source": [
    "# The Stoner-Wolfharth model for Magnetic Hysteresis\n",
    "Instructions:  \n",
    "\n",
    "After opening the file, run the Python 2 kernel. Wait for the kernel to start  \n",
    "The code sohuld autorun, but if it does not you can manually select the cells and run them  \n",
    "You can interact with the plot to change the parameters and it will auto-update  "
   ]
  },
  {
   "cell_type": "code",
   "execution_count": 1,
   "metadata": {
    "collapsed": false
   },
   "outputs": [
    {
     "data": {
      "text/html": [
       "<script>\n",
       "    // AUTORUN ALL CELLS ON NOTEBOOK-LOAD!\n",
       "    require(\n",
       "        ['base/js/namespace', 'jquery'], \n",
       "        function(jupyter, $) {\n",
       "            $(jupyter.events).on(\"kernel_ready.Kernel\", function () {\n",
       "                console.log(\"Auto-running all cells-below...\");\n",
       "                jupyter.actions.call('jupyter-notebook:run-all-cells-below');\n",
       "            });\n",
       "        }\n",
       "    );\n",
       "</script>"
      ],
      "text/plain": [
       "<IPython.core.display.HTML object>"
      ]
     },
     "metadata": {},
     "output_type": "display_data"
    }
   ],
   "source": [
    "%%html\n",
    "<script>\n",
    "    // AUTORUN ALL CELLS ON NOTEBOOK-LOAD!\n",
    "    require(\n",
    "        ['base/js/namespace', 'jquery'], \n",
    "        function(jupyter, $) {\n",
    "            $(jupyter.events).on(\"kernel_ready.Kernel\", function () {\n",
    "                console.log(\"Auto-running all cells-below...\");\n",
    "                jupyter.actions.call('jupyter-notebook:run-all-cells-below');\n",
    "            });\n",
    "        }\n",
    "    );\n",
    "</script>"
   ]
  },
  {
   "cell_type": "code",
   "execution_count": 2,
   "metadata": {
    "collapsed": false
   },
   "outputs": [
    {
     "data": {
      "text/html": [
       "<script>\n",
       "code_show=true; \n",
       "function code_toggle() {\n",
       " if (code_show){\n",
       " $('div.input').hide();\n",
       " } else {\n",
       " $('div.input').show();\n",
       " }\n",
       " code_show = !code_show\n",
       "} \n",
       "$( document ).ready(code_toggle);\n",
       "</script>\n",
       "The raw code for this IPython notebook is by default hidden for easier reading.\n",
       "To toggle on/off the raw code, click <a href=\"javascript:code_toggle()\">here</a>."
      ],
      "text/plain": [
       "<IPython.core.display.HTML object>"
      ]
     },
     "execution_count": 2,
     "metadata": {},
     "output_type": "execute_result"
    }
   ],
   "source": [
    "from IPython.display import HTML\n",
    "HTML('''<script>\n",
    "code_show=true; \n",
    "function code_toggle() {\n",
    " if (code_show){\n",
    " $('div.input').hide();\n",
    " } else {\n",
    " $('div.input').show();\n",
    " }\n",
    " code_show = !code_show\n",
    "} \n",
    "$( document ).ready(code_toggle);\n",
    "</script>\n",
    "The raw code for this IPython notebook is by default hidden for easier reading.\n",
    "To toggle on/off the raw code, click <a href=\"javascript:code_toggle()\">here</a>.''')\n"
   ]
  },
  {
   "cell_type": "code",
   "execution_count": 3,
   "metadata": {
    "collapsed": false,
    "scrolled": true
   },
   "outputs": [
    {
     "data": {
      "text/plain": [
       "<function __main__.SWplt>"
      ]
     },
     "execution_count": 3,
     "metadata": {},
     "output_type": "execute_result"
    },
    {
     "data": {
      "image/png": "[encoded data removed]",
      "text/plain": [
       "<matplotlib.figure.Figure at 0x2626d9043c8>"
      ]
     },
     "metadata": {},
     "output_type": "display_data"
    }
   ],
   "source": [
    "%matplotlib inline\n",
    "from ipywidgets import *\n",
    "from IPython.display import display\n",
    "import numpy as np\n",
    "import matplotlib.pyplot as plt\n",
    "from pylab import *\n",
    "from scipy.optimize import brentq\n",
    "\n",
    "def SW(Ms, H, theta):\n",
    "    theta = theta/360.0*2.0*np.pi\n",
    "    phis1=[]\n",
    "    phis2=[]\n",
    "    ### Top part\n",
    "    for h in H: \n",
    "        F = lambda phi : 0.5*np.sin(2*(phi-theta)) + h*np.sin(phi) \n",
    "        phi = np.linspace(0, np.pi, points)\n",
    "        \n",
    "        phi_initial_guess = 0.8\n",
    "        \n",
    "        if max(F(phi)) > 0:\n",
    "                p = brentq(F, 0, phi[np.argmax(F(phi))])\n",
    "        else:\n",
    "            p = np.pi\n",
    "        phis1.append(p)\n",
    "    phis1 = np.array(phis1,dtype='float')\n",
    "    ### Bottom part          \n",
    "    for h in H:\n",
    "        F = lambda phi : 0.5*np.sin(2*(phi-theta)) + h*np.sin(phi) \n",
    "        phi = np.linspace(2*np.pi, np.pi, points)\n",
    "        \n",
    "        phi_initial_guess = 4.0\n",
    "        if max(F(phi)) > 0:\n",
    "                p = brentq(F, np.pi, phi[np.argmax(F(phi))])\n",
    "        else:\n",
    "            p = 0\n",
    "        phis2.append(p)\n",
    "    phis2 = np.array(phis2, dtype='float')\n",
    "    \n",
    "    for i in range(len(phis1)):\n",
    "        if H[i] < 0 and np.cos(phis2[i]) > np.cos(phis1[i]):\n",
    "            phis1[i] = phis2[i]\n",
    "    for i in range(len(phis2)):\n",
    "        if H[i] > 0 and np.cos(phis2[i]) > np.cos(phis1[i]):\n",
    "            phis2[i] = phis1[i]\n",
    "    return phis1, phis2\n",
    "points = 200\n",
    "H = np.linspace(-1.0,1.0,points)\n",
    "Ms=1752 #saturation of iron\n",
    "Ku=1.0e5 #anisotropy of iron\n",
    "theta0 = 45.0\n",
    "def SWplt(Ku, Ms, theta):\n",
    "    mu0 = 4*np.pi*1.0e-7 #V*s/(A*m)\n",
    "    points = 200\n",
    "    h = np.linspace(-1.0,1.0,points)\n",
    "    Hk = (2*Ku)/(Ms)\n",
    "    H = h*Hk*1.0e-3\n",
    "    \n",
    "    phis1, phis2 = SW(Ms, h, theta)\n",
    "    fig, ax = plt.subplots()\n",
    "    subplots_adjust(bottom=0.3)\n",
    "    \n",
    "    l, = plot(H, Ms*np.cos(phis1), 'b', linewidth=4)\n",
    "    k, = plot(H, Ms*np.cos(phis2), 'b', lw = 4)\n",
    "\n",
    "#     ax.set_ylim([-1.1,1.1])\n",
    "#     ax.set_xlim([-1.1,1.1])\n",
    "    ax.tick_params(axis='both', which='major', labelsize=10)\n",
    "    ax.set_xlabel('H (Oe)', fontsize=20)\n",
    "    ax.set_ylabel('M (emu/cc)',fontsize=20)\n",
    "    plt.grid(b=True, which='both')\n",
    "\n",
    "stheta = BoundedFloatText(value=theta0, min =0.0, max = 89.9, description= ''r'$\\theta$ (deg)' )\n",
    "Msbox = BoundedFloatText(value=Ms, min =0.2, max = 2000., description='M'r'$_s$ (T)' )\n",
    "Kubox = BoundedFloatText(value=Ku, min =0.2, max = 1.0e6, description='K'r'$_u$' )\n",
    "   \n",
    "interact(SWplt, Ku = Kubox, Ms = Msbox, theta=stheta)\n",
    "\n",
    "#h = μ0MsH/2Ku\n",
    "# H = h/mu0 / Ms*2*Ku\n",
    "\n"
   ]
  },
  {
   "cell_type": "code",
   "execution_count": null,
   "metadata": {
    "collapsed": true
   },
   "outputs": [],
   "source": []
  }
 ],
 "metadata": {
  "anaconda-cloud": {},
  "kernelspec": {
   "display_name": "Python [default]",
   "language": "python",
   "name": "python3"
  },
  "language_info": {
   "codemirror_mode": {
    "name": "ipython",
    "version": 3
   },
   "file_extension": ".py",
   "mimetype": "text/x-python",
   "name": "python",
   "nbconvert_exporter": "python",
   "pygments_lexer": "ipython3",
   "version": "3.5.2"
  },
  "widgets": {
   "state": {
    "df4fb461a7434e9fb357d1b8becb2286": {
     "views": [
      {
       "cell_index": 3
      }
     ]
    }
   },
   "version": "1.2.0"
  }
 },
 "nbformat": 4,
 "nbformat_minor": 1
}
